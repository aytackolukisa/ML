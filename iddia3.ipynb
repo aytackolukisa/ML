{
 "cells": [
  {
   "cell_type": "code",
   "execution_count": 14,
   "metadata": {},
   "outputs": [],
   "source": [
    "import matplotlib.pyplot as plt\n",
    "import seaborn as sns\n",
    "import numpy as np\n",
    "import pandas as pd\n",
    "import seaborn as sns\n",
    "import scipy.stats as stats\n",
    "from scipy.stats.mstats import winsorize\n",
    "from sqlalchemy import create_engine\n",
    "import warnings\n",
    "from sklearn import linear_model\n",
    "import statsmodels.api as sm\n",
    "from sklearn.linear_model import LogisticRegression\n",
    "log_reg = LogisticRegression()\n",
    "\n",
    "from sklearn.model_selection import train_test_split\n",
    "from sklearn.linear_model import LogisticRegression\n",
    "from sklearn.metrics import confusion_matrix\n",
    "from sklearn.metrics import classification_report"
   ]
  },
  {
   "cell_type": "code",
   "execution_count": 15,
   "metadata": {},
   "outputs": [],
   "source": [
    "iddaa = pd.read_excel(\"/Users/aytackolukisa/Desktop/Jupiter_Dosyaları/iddaa/Geniş İdda.xlsx\")"
   ]
  },
  {
   "cell_type": "code",
   "execution_count": 16,
   "metadata": {},
   "outputs": [],
   "source": [
    "liste_z =[\"IY\", 'MS']\n",
    "for i in liste_z:\n",
    "    for x in range(len(iddaa)):\n",
    "        if iddaa[i][x] == \"ERT\" or iddaa[i][x] == \"ERT.\"  :\n",
    "            iddaa[i][x] = np.nan\n",
    "\n",
    "            \n",
    "df = iddaa.copy()"
   ]
  },
  {
   "cell_type": "code",
   "execution_count": 17,
   "metadata": {},
   "outputs": [],
   "source": [
    "nn = df[\"IY\"].str.split(\"-\", n = 1, expand = True)\n",
    "df[\"İY_EvSahibiTK_Gol\"] = nn[0]\n",
    "df[\"İY_DeplasmanTK_Gol\"] = nn[1]\n",
    "df.drop(columns = [\"IY\"],inplace = True, axis = 1)\n",
    "\n",
    "nn2 = df[\"MS\"].str.split(\"-\", n = 1, expand = True)\n",
    "df[\"MS_EvSahibiTK_Gol\"] = nn2[0]\n",
    "df[\"MS_DeplasmanTK_Gol\"] = nn2[1]\n",
    "df.drop(columns = [\"MS\"],inplace = True, axis = 1)\n"
   ]
  },
  {
   "cell_type": "code",
   "execution_count": 18,
   "metadata": {},
   "outputs": [],
   "source": [
    "df.columns\n",
    "liste_c =['IY_1', 'IY_X', 'IY_2', 'MS_1',\n",
    "       'MS_X', 'MS_2', 'K_GOL_Var', 'K_GOL_Yok', '1/X', '1/2', 'X/2',\n",
    "       'IY 1,5 Gol_A', 'IY 1,5 Gol_U', 'MS_1.5_A', 'MS_1.5_U', 'MS_2.5_A',\n",
    "       'MS_2.5_U', 'MS_3.5_A', 'MS_3.5_U', 'TP_GOL_0_1', 'TP_GOL_2_3',\n",
    "       'TP_GOL_4_6', 'TP_GOL_7_Ü', 'İY_EvSahibiTK_Gol', 'İY_DeplasmanTK_Gol',\n",
    "       'MS_EvSahibiTK_Gol', 'MS_DeplasmanTK_Gol']\n",
    "\n",
    "for i in liste_c:\n",
    "    df[i] = df[i].str.replace(\",\", \".\")"
   ]
  },
  {
   "cell_type": "code",
   "execution_count": 19,
   "metadata": {},
   "outputs": [
    {
     "name": "stdout",
     "output_type": "stream",
     "text": [
      "IY_1 sütün içindeki problemli değerler : \n",
      "------\n",
      "IY_X sütün içindeki problemli değerler : \n",
      "------\n",
      "IY_2 sütün içindeki problemli değerler : \n",
      "------\n",
      "MS_1 sütün içindeki problemli değerler : \n",
      "------\n",
      "MS_X sütün içindeki problemli değerler : \n",
      "------\n",
      "MS_2 sütün içindeki problemli değerler : \n",
      "------\n",
      "K_GOL_Var sütün içindeki problemli değerler : \n",
      "------\n",
      "K_GOL_Yok sütün içindeki problemli değerler : \n",
      "------\n",
      "1/X sütün içindeki problemli değerler : \n",
      "------\n",
      "1/2 sütün içindeki problemli değerler : \n",
      "------\n",
      "X/2 sütün içindeki problemli değerler : \n",
      "------\n",
      "IY 1,5 Gol_A sütün içindeki problemli değerler : \n",
      "------\n",
      "IY 1,5 Gol_U sütün içindeki problemli değerler : \n",
      "------\n",
      "MS_1.5_A sütün içindeki problemli değerler : \n",
      "------\n",
      "MS_1.5_U sütün içindeki problemli değerler : \n",
      "------\n",
      "MS_2.5_A sütün içindeki problemli değerler : \n",
      "------\n",
      "MS_2.5_U sütün içindeki problemli değerler : \n",
      "------\n",
      "MS_3.5_A sütün içindeki problemli değerler : \n",
      "------\n",
      "MS_3.5_U sütün içindeki problemli değerler : \n",
      "------\n",
      "TP_GOL_0_1 sütün içindeki problemli değerler : \n",
      "------\n",
      "TP_GOL_2_3 sütün içindeki problemli değerler : \n",
      "------\n",
      "TP_GOL_4_6 sütün içindeki problemli değerler : \n",
      "------\n",
      "TP_GOL_7_Ü sütün içindeki problemli değerler : \n",
      "------\n",
      "İY_EvSahibiTK_Gol sütün içindeki problemli değerler : \n",
      "------\n",
      "\n",
      "\n",
      "\n",
      "\n",
      "\n",
      "İY_DeplasmanTK_Gol sütün içindeki problemli değerler : \n",
      "------\n",
      "\n",
      "\n",
      "\n",
      "\n",
      "\n",
      "MS_EvSahibiTK_Gol sütün içindeki problemli değerler : \n",
      "------\n",
      "MS_DeplasmanTK_Gol sütün içindeki problemli değerler : \n",
      "------\n"
     ]
    }
   ],
   "source": [
    "for x in range(len(df)):\n",
    "    for i in liste_c:\n",
    "        if df[i][x] == \"-\" :\n",
    "            df[i][x] = np.nan\n",
    "\n",
    "for x in liste_c:\n",
    "    print(\"{} sütün içindeki problemli değerler : \".format(x)) # Hatalı ifadenin sütünunu yazıyoruz\n",
    "    print(\"------\")\n",
    "    for i in df[x] :\n",
    "        try :\n",
    "            float(i) # Tüm değerleri float a çevir çeviremediğin veriyi yaz\n",
    "        except:\n",
    "            print(i)"
   ]
  },
  {
   "cell_type": "code",
   "execution_count": 40,
   "metadata": {},
   "outputs": [],
   "source": [
    "winsorize_list =[\"w_\"+liste_c[i] for i in range(len(liste_c))] \n",
    "from scipy.stats.mstats import winsorize\n",
    "\n",
    "for i in range(len(winsorize_list)):\n",
    "    df[ winsorize_list[i]] = winsorize(df[liste_c[i]],(0.0,0.05))"
   ]
  },
  {
   "cell_type": "code",
   "execution_count": 41,
   "metadata": {},
   "outputs": [],
   "source": [
    "df[\"İY_TOP_GOL\"]=np.nan\n",
    "df[\"MS_TOP_GOL\"]=np.nan\n",
    "df[[\"İY_EvSahibiTK_Gol\",\"İY_DeplasmanTK_Gol\",\"MS_EvSahibiTK_Gol\",\"MS_DeplasmanTK_Gol\"]] = df[[\"İY_EvSahibiTK_Gol\",\"İY_DeplasmanTK_Gol\",\"MS_EvSahibiTK_Gol\",\"MS_DeplasmanTK_Gol\"]].apply(pd.to_numeric)\n",
    "\n",
    "df[\"İY_TOP_GOL\"] = df[\"İY_EvSahibiTK_Gol\"] + df[\"İY_DeplasmanTK_Gol\"]\n",
    "df[\"MS_TOP_GOL\"] = df[\"MS_EvSahibiTK_Gol\"] + df[\"MS_DeplasmanTK_Gol\"]"
   ]
  },
  {
   "cell_type": "code",
   "execution_count": 42,
   "metadata": {},
   "outputs": [],
   "source": [
    "df['Class2'] = df['MS_TOP_GOL'].apply(lambda x: '1' if x > 2 else '0')\n",
    "\n",
    "df['Class1'] = df['İY_TOP_GOL'].apply(lambda x: '1' if x > 2 else '0')"
   ]
  },
  {
   "cell_type": "code",
   "execution_count": 43,
   "metadata": {},
   "outputs": [],
   "source": [
    "liste_d = ['Class2','Class1','IY_1', 'IY_X', 'IY_2', 'MS_1',\n",
    "       'MS_X', 'MS_2', 'K_GOL_Var', 'K_GOL_Yok', '1/X', '1/2', 'X/2',\n",
    "       'IY 1,5 Gol_A', 'IY 1,5 Gol_U', 'MS_1.5_A', 'MS_1.5_U', 'MS_2.5_A',\n",
    "       'MS_2.5_U', 'MS_3.5_A', 'MS_3.5_U', 'TP_GOL_0_1', 'TP_GOL_2_3',\n",
    "       'TP_GOL_4_6', 'TP_GOL_7_Ü', 'İY_EvSahibiTK_Gol', 'İY_DeplasmanTK_Gol',\n",
    "       'MS_EvSahibiTK_Gol', 'MS_DeplasmanTK_Gol']\n",
    "for i in liste_d:\n",
    "    df[[i]] = df[[i]].apply(pd.to_numeric)"
   ]
  },
  {
   "cell_type": "code",
   "execution_count": 44,
   "metadata": {},
   "outputs": [],
   "source": [
    "\n",
    "data =df.copy()"
   ]
  },
  {
   "cell_type": "code",
   "execution_count": 45,
   "metadata": {},
   "outputs": [
    {
     "name": "stdout",
     "output_type": "stream",
     "text": [
      "<class 'pandas.core.frame.DataFrame'>\n",
      "Int64Index: 385 entries, 0 to 491\n",
      "Data columns (total 62 columns):\n",
      " #   Column                Non-Null Count  Dtype  \n",
      "---  ------                --------------  -----  \n",
      " 0   Saat                  385 non-null    object \n",
      " 1   Lig                   385 non-null    object \n",
      " 2   Ev Sahibi             385 non-null    object \n",
      " 3   Misafir               385 non-null    object \n",
      " 4   IY_1                  385 non-null    float64\n",
      " 5   IY_X                  385 non-null    float64\n",
      " 6   IY_2                  385 non-null    float64\n",
      " 7   MS_1                  385 non-null    float64\n",
      " 8   MS_X                  385 non-null    float64\n",
      " 9   MS_2                  385 non-null    float64\n",
      " 10  K_GOL_Var             385 non-null    float64\n",
      " 11  K_GOL_Yok             385 non-null    float64\n",
      " 12  1/X                   385 non-null    float64\n",
      " 13  1/2                   385 non-null    float64\n",
      " 14  X/2                   385 non-null    float64\n",
      " 15  IY 1,5 Gol_A          385 non-null    float64\n",
      " 16  IY 1,5 Gol_U          385 non-null    float64\n",
      " 17  MS_1.5_A              385 non-null    float64\n",
      " 18  MS_1.5_U              385 non-null    float64\n",
      " 19  MS_2.5_A              385 non-null    float64\n",
      " 20  MS_2.5_U              385 non-null    float64\n",
      " 21  MS_3.5_A              385 non-null    float64\n",
      " 22  MS_3.5_U              385 non-null    float64\n",
      " 23  TP_GOL_0_1            385 non-null    float64\n",
      " 24  TP_GOL_2_3            385 non-null    float64\n",
      " 25  TP_GOL_4_6            385 non-null    float64\n",
      " 26  TP_GOL_7_Ü            385 non-null    float64\n",
      " 27  İY_EvSahibiTK_Gol     385 non-null    float64\n",
      " 28  İY_DeplasmanTK_Gol    385 non-null    float64\n",
      " 29  MS_EvSahibiTK_Gol     385 non-null    float64\n",
      " 30  MS_DeplasmanTK_Gol    385 non-null    float64\n",
      " 31  İY_TOP_GOL            385 non-null    float64\n",
      " 32  MS_TOP_GOL            385 non-null    float64\n",
      " 33  Class2                385 non-null    int64  \n",
      " 34  Class1                385 non-null    int64  \n",
      " 35  w_IY_1                385 non-null    float64\n",
      " 36  w_IY_X                385 non-null    float64\n",
      " 37  w_IY_2                385 non-null    float64\n",
      " 38  w_MS_1                385 non-null    float64\n",
      " 39  w_MS_X                385 non-null    float64\n",
      " 40  w_MS_2                385 non-null    float64\n",
      " 41  w_K_GOL_Var           385 non-null    float64\n",
      " 42  w_K_GOL_Yok           385 non-null    float64\n",
      " 43  w_1/X                 385 non-null    float64\n",
      " 44  w_1/2                 385 non-null    float64\n",
      " 45  w_X/2                 385 non-null    float64\n",
      " 46  w_IY 1,5 Gol_A        385 non-null    float64\n",
      " 47  w_IY 1,5 Gol_U        385 non-null    float64\n",
      " 48  w_MS_1.5_A            385 non-null    float64\n",
      " 49  w_MS_1.5_U            385 non-null    float64\n",
      " 50  w_MS_2.5_A            385 non-null    float64\n",
      " 51  w_MS_2.5_U            385 non-null    float64\n",
      " 52  w_MS_3.5_A            385 non-null    float64\n",
      " 53  w_MS_3.5_U            385 non-null    float64\n",
      " 54  w_TP_GOL_0_1          385 non-null    float64\n",
      " 55  w_TP_GOL_2_3          385 non-null    float64\n",
      " 56  w_TP_GOL_4_6          385 non-null    float64\n",
      " 57  w_TP_GOL_7_Ü          385 non-null    float64\n",
      " 58  w_İY_EvSahibiTK_Gol   385 non-null    float64\n",
      " 59  w_İY_DeplasmanTK_Gol  385 non-null    float64\n",
      " 60  w_MS_EvSahibiTK_Gol   385 non-null    float64\n",
      " 61  w_MS_DeplasmanTK_Gol  385 non-null    float64\n",
      "dtypes: float64(56), int64(2), object(4)\n",
      "memory usage: 189.5+ KB\n"
     ]
    }
   ],
   "source": [
    "\n",
    "data[\"MS_X\"].fillna(data[\"MS_2.5_A\"], inplace = True)\n",
    "df[\"K_GOL_Yok\"].fillna(df[\"MS_2.5_A\"], inplace = True)\n",
    "\n",
    "df[\"IY 1,5 Gol_A\"].fillna(df[\"MS_2.5_A\"], inplace = True)\n",
    "df[\"MS_1.5_A\"].fillna(df[\"MS_2.5_A\"], inplace = True)\n",
    "df[\"IY 1,5 Gol_U\"].fillna((-1*(df[\"MS_2.5_A\"])+5), inplace = True)\n",
    "\n",
    "df[\"MS_2.5_A\"].fillna(df[\"MS_2.5_A\"], inplace = True)\n",
    "df[\"MS_2\"].fillna(df[\"X/2\"], inplace = True)\n",
    "df[\"MS_1\"].fillna(df[\"1/X\"], inplace = True)\n",
    "\n",
    "df[\"MS_3.5_A\"].fillna(df[\"MS_2.5_A\"], inplace = True)\n",
    "df.info()"
   ]
  },
  {
   "cell_type": "code",
   "execution_count": 46,
   "metadata": {},
   "outputs": [
    {
     "name": "stdout",
     "output_type": "stream",
     "text": [
      "<class 'pandas.core.frame.DataFrame'>\n",
      "Int64Index: 385 entries, 0 to 491\n",
      "Data columns (total 62 columns):\n",
      " #   Column                Non-Null Count  Dtype  \n",
      "---  ------                --------------  -----  \n",
      " 0   Saat                  385 non-null    object \n",
      " 1   Lig                   385 non-null    object \n",
      " 2   Ev Sahibi             385 non-null    object \n",
      " 3   Misafir               385 non-null    object \n",
      " 4   IY_1                  385 non-null    float64\n",
      " 5   IY_X                  385 non-null    float64\n",
      " 6   IY_2                  385 non-null    float64\n",
      " 7   MS_1                  385 non-null    float64\n",
      " 8   MS_X                  385 non-null    float64\n",
      " 9   MS_2                  385 non-null    float64\n",
      " 10  K_GOL_Var             385 non-null    float64\n",
      " 11  K_GOL_Yok             385 non-null    float64\n",
      " 12  1/X                   385 non-null    float64\n",
      " 13  1/2                   385 non-null    float64\n",
      " 14  X/2                   385 non-null    float64\n",
      " 15  IY 1,5 Gol_A          385 non-null    float64\n",
      " 16  IY 1,5 Gol_U          385 non-null    float64\n",
      " 17  MS_1.5_A              385 non-null    float64\n",
      " 18  MS_1.5_U              385 non-null    float64\n",
      " 19  MS_2.5_A              385 non-null    float64\n",
      " 20  MS_2.5_U              385 non-null    float64\n",
      " 21  MS_3.5_A              385 non-null    float64\n",
      " 22  MS_3.5_U              385 non-null    float64\n",
      " 23  TP_GOL_0_1            385 non-null    float64\n",
      " 24  TP_GOL_2_3            385 non-null    float64\n",
      " 25  TP_GOL_4_6            385 non-null    float64\n",
      " 26  TP_GOL_7_Ü            385 non-null    float64\n",
      " 27  İY_EvSahibiTK_Gol     385 non-null    float64\n",
      " 28  İY_DeplasmanTK_Gol    385 non-null    float64\n",
      " 29  MS_EvSahibiTK_Gol     385 non-null    float64\n",
      " 30  MS_DeplasmanTK_Gol    385 non-null    float64\n",
      " 31  İY_TOP_GOL            385 non-null    float64\n",
      " 32  MS_TOP_GOL            385 non-null    float64\n",
      " 33  Class2                385 non-null    int64  \n",
      " 34  Class1                385 non-null    int64  \n",
      " 35  w_IY_1                385 non-null    float64\n",
      " 36  w_IY_X                385 non-null    float64\n",
      " 37  w_IY_2                385 non-null    float64\n",
      " 38  w_MS_1                385 non-null    float64\n",
      " 39  w_MS_X                385 non-null    float64\n",
      " 40  w_MS_2                385 non-null    float64\n",
      " 41  w_K_GOL_Var           385 non-null    float64\n",
      " 42  w_K_GOL_Yok           385 non-null    float64\n",
      " 43  w_1/X                 385 non-null    float64\n",
      " 44  w_1/2                 385 non-null    float64\n",
      " 45  w_X/2                 385 non-null    float64\n",
      " 46  w_IY 1,5 Gol_A        385 non-null    float64\n",
      " 47  w_IY 1,5 Gol_U        385 non-null    float64\n",
      " 48  w_MS_1.5_A            385 non-null    float64\n",
      " 49  w_MS_1.5_U            385 non-null    float64\n",
      " 50  w_MS_2.5_A            385 non-null    float64\n",
      " 51  w_MS_2.5_U            385 non-null    float64\n",
      " 52  w_MS_3.5_A            385 non-null    float64\n",
      " 53  w_MS_3.5_U            385 non-null    float64\n",
      " 54  w_TP_GOL_0_1          385 non-null    float64\n",
      " 55  w_TP_GOL_2_3          385 non-null    float64\n",
      " 56  w_TP_GOL_4_6          385 non-null    float64\n",
      " 57  w_TP_GOL_7_Ü          385 non-null    float64\n",
      " 58  w_İY_EvSahibiTK_Gol   385 non-null    float64\n",
      " 59  w_İY_DeplasmanTK_Gol  385 non-null    float64\n",
      " 60  w_MS_EvSahibiTK_Gol   385 non-null    float64\n",
      " 61  w_MS_DeplasmanTK_Gol  385 non-null    float64\n",
      "dtypes: float64(56), int64(2), object(4)\n",
      "memory usage: 189.5+ KB\n"
     ]
    }
   ],
   "source": [
    "df.dropna(inplace=True)\n",
    "df.info()"
   ]
  },
  {
   "cell_type": "code",
   "execution_count": 47,
   "metadata": {},
   "outputs": [
    {
     "data": {
      "text/plain": [
       "Index(['IY_1', 'IY_X', 'IY_2', 'MS_1', 'MS_X', 'MS_2', 'K_GOL_Var',\n",
       "       'K_GOL_Yok', '1/X', '1/2', 'X/2', 'IY 1,5 Gol_A', 'IY 1,5 Gol_U',\n",
       "       'MS_1.5_A', 'MS_1.5_U', 'MS_2.5_A', 'MS_2.5_U', 'MS_3.5_A', 'MS_3.5_U',\n",
       "       'TP_GOL_0_1', 'TP_GOL_2_3', 'TP_GOL_4_6', 'TP_GOL_7_Ü',\n",
       "       'İY_EvSahibiTK_Gol', 'İY_DeplasmanTK_Gol', 'MS_EvSahibiTK_Gol',\n",
       "       'MS_DeplasmanTK_Gol', 'İY_TOP_GOL', 'MS_TOP_GOL', 'Class2', 'Class1',\n",
       "       'w_IY_1', 'w_IY_X', 'w_IY_2', 'w_MS_1', 'w_MS_X', 'w_MS_2',\n",
       "       'w_K_GOL_Var', 'w_K_GOL_Yok', 'w_1/X', 'w_1/2', 'w_X/2',\n",
       "       'w_IY 1,5 Gol_A', 'w_IY 1,5 Gol_U', 'w_MS_1.5_A', 'w_MS_1.5_U',\n",
       "       'w_MS_2.5_A', 'w_MS_2.5_U', 'w_MS_3.5_A', 'w_MS_3.5_U', 'w_TP_GOL_0_1',\n",
       "       'w_TP_GOL_2_3', 'w_TP_GOL_4_6', 'w_TP_GOL_7_Ü', 'w_İY_EvSahibiTK_Gol',\n",
       "       'w_İY_DeplasmanTK_Gol', 'w_MS_EvSahibiTK_Gol', 'w_MS_DeplasmanTK_Gol'],\n",
       "      dtype='object')"
      ]
     },
     "execution_count": 47,
     "metadata": {},
     "output_type": "execute_result"
    }
   ],
   "source": [
    "numeric = df.loc[:, df.dtypes != np.object]\n",
    "numeric.columns"
   ]
  },
  {
   "cell_type": "code",
   "execution_count": 48,
   "metadata": {},
   "outputs": [
    {
     "name": "stderr",
     "output_type": "stream",
     "text": [
      "<ipython-input-48-644c66f92be4>:1: SettingWithCopyWarning: \n",
      "A value is trying to be set on a copy of a slice from a DataFrame.\n",
      "Try using .loc[row_indexer,col_indexer] = value instead\n",
      "\n",
      "See the caveats in the documentation: https://pandas.pydata.org/pandas-docs/stable/user_guide/indexing.html#returning-a-view-versus-a-copy\n",
      "  numeric[\"fark\"] = numeric[\"MS_2.5_U\"]-numeric[\"MS_2.5_A\"]\n",
      "<ipython-input-48-644c66f92be4>:3: SettingWithCopyWarning: \n",
      "A value is trying to be set on a copy of a slice from a DataFrame.\n",
      "Try using .loc[row_indexer,col_indexer] = value instead\n",
      "\n",
      "See the caveats in the documentation: https://pandas.pydata.org/pandas-docs/stable/user_guide/indexing.html#returning-a-view-versus-a-copy\n",
      "  numeric[\"fark2\"] = numeric[\"MS_1.5_A\"]-numeric[\"MS_1.5_U\"]\n",
      "<ipython-input-48-644c66f92be4>:5: SettingWithCopyWarning: \n",
      "A value is trying to be set on a copy of a slice from a DataFrame.\n",
      "Try using .loc[row_indexer,col_indexer] = value instead\n",
      "\n",
      "See the caveats in the documentation: https://pandas.pydata.org/pandas-docs/stable/user_guide/indexing.html#returning-a-view-versus-a-copy\n",
      "  numeric[\"Carpım1\"] = numeric[\"MS_2.5_A\"]*numeric[\"TP_GOL_0_1\"]\n"
     ]
    },
    {
     "data": {
      "text/html": [
       "<div>\n",
       "<style scoped>\n",
       "    .dataframe tbody tr th:only-of-type {\n",
       "        vertical-align: middle;\n",
       "    }\n",
       "\n",
       "    .dataframe tbody tr th {\n",
       "        vertical-align: top;\n",
       "    }\n",
       "\n",
       "    .dataframe thead th {\n",
       "        text-align: right;\n",
       "    }\n",
       "</style>\n",
       "<table border=\"1\" class=\"dataframe\">\n",
       "  <thead>\n",
       "    <tr style=\"text-align: right;\">\n",
       "      <th></th>\n",
       "      <th>Carpım2</th>\n",
       "    </tr>\n",
       "  </thead>\n",
       "  <tbody>\n",
       "    <tr>\n",
       "      <th>0</th>\n",
       "      <td>3.3000</td>\n",
       "    </tr>\n",
       "    <tr>\n",
       "      <th>1</th>\n",
       "      <td>2.7225</td>\n",
       "    </tr>\n",
       "    <tr>\n",
       "      <th>3</th>\n",
       "      <td>2.9700</td>\n",
       "    </tr>\n",
       "    <tr>\n",
       "      <th>4</th>\n",
       "      <td>2.6720</td>\n",
       "    </tr>\n",
       "    <tr>\n",
       "      <th>5</th>\n",
       "      <td>2.4000</td>\n",
       "    </tr>\n",
       "    <tr>\n",
       "      <th>...</th>\n",
       "      <td>...</td>\n",
       "    </tr>\n",
       "    <tr>\n",
       "      <th>486</th>\n",
       "      <td>2.5920</td>\n",
       "    </tr>\n",
       "    <tr>\n",
       "      <th>488</th>\n",
       "      <td>2.7125</td>\n",
       "    </tr>\n",
       "    <tr>\n",
       "      <th>489</th>\n",
       "      <td>2.6400</td>\n",
       "    </tr>\n",
       "    <tr>\n",
       "      <th>490</th>\n",
       "      <td>2.7200</td>\n",
       "    </tr>\n",
       "    <tr>\n",
       "      <th>491</th>\n",
       "      <td>2.5920</td>\n",
       "    </tr>\n",
       "  </tbody>\n",
       "</table>\n",
       "<p>385 rows × 1 columns</p>\n",
       "</div>"
      ],
      "text/plain": [
       "     Carpım2\n",
       "0     3.3000\n",
       "1     2.7225\n",
       "3     2.9700\n",
       "4     2.6720\n",
       "5     2.4000\n",
       "..       ...\n",
       "486   2.5920\n",
       "488   2.7125\n",
       "489   2.6400\n",
       "490   2.7200\n",
       "491   2.5920\n",
       "\n",
       "[385 rows x 1 columns]"
      ]
     },
     "execution_count": 48,
     "metadata": {},
     "output_type": "execute_result"
    }
   ],
   "source": [
    "numeric[\"fark\"] = numeric[\"MS_2.5_U\"]-numeric[\"MS_2.5_A\"]\n",
    "numeric[[\"fark\"]]\n",
    "numeric[\"fark2\"] = numeric[\"MS_1.5_A\"]-numeric[\"MS_1.5_U\"]\n",
    "numeric[[\"fark2\"]]\n",
    "numeric[\"Carpım1\"] = numeric[\"MS_2.5_A\"]*numeric[\"TP_GOL_0_1\"]\n",
    "numeric[[\"Carpım1\"]]\n",
    "numeric[\"Carpım2\"] = numeric[\"MS_2.5_U\"]*numeric[\"TP_GOL_2_3\"]\n",
    "numeric[[\"Carpım2\"]]"
   ]
  },
  {
   "cell_type": "code",
   "execution_count": 49,
   "metadata": {},
   "outputs": [],
   "source": [
    "extra = numeric[[\"TP_GOL_0_1\",\"TP_GOL_2_3\",\"TP_GOL_4_6\",\"w_K_GOL_Var\",\"w_K_GOL_Yok\",\"w_MS_2.5_U\",\"w_TP_GOL_0_1\",\"w_TP_GOL_2_3\",\"w_TP_GOL_4_6\",\n",
    "                 \"w_TP_GOL_7_Ü\",'Class2','Class1',\"fark\",\"fark2\",\"Carpım1\",\"Carpım2\"]]"
   ]
  },
  {
   "cell_type": "code",
   "execution_count": 50,
   "metadata": {},
   "outputs": [],
   "source": [
    "def model_olustur(X, y):\n",
    "    X_eğitim, X_test, y_eğitim, y_test =  train_test_split(X, y, test_size=0.20, random_state=111, stratify = y)\n",
    "    logreg_model = LogisticRegression()\n",
    "    logreg_model.fit(X_eğitim, y_eğitim)\n",
    "\n",
    "    tahmin_eğitim = logreg_model.predict(X_eğitim)\n",
    "    tahmin_test = logreg_model.predict(X_test)\n",
    "    hata_matrisi_eğitim = confusion_matrix(y_eğitim, tahmin_eğitim)\n",
    "    hata_matrisi_test = confusion_matrix(y_test, tahmin_test)\n",
    "    print(\"Modelin doğruluk değeri : \",  logreg_model.score(X_test, y_test))\n",
    "    print(\"Eğitim veri kümesi\")\n",
    "    print(classification_report(y_eğitim,tahmin_eğitim) )\n",
    "    print(\"Test veri kümesi\")\n",
    "    print(classification_report(y_test,tahmin_test) )\n",
    "    return  None"
   ]
  },
  {
   "cell_type": "code",
   "execution_count": 51,
   "metadata": {},
   "outputs": [
    {
     "name": "stdout",
     "output_type": "stream",
     "text": [
      "Modelin doğruluk değeri :  0.6808510638297872\n",
      "Eğitim veri kümesi\n",
      "              precision    recall  f1-score   support\n",
      "\n",
      "           0       0.58      0.87      0.70       186\n",
      "           1       0.74      0.37      0.49       186\n",
      "\n",
      "    accuracy                           0.62       372\n",
      "   macro avg       0.66      0.62      0.60       372\n",
      "weighted avg       0.66      0.62      0.60       372\n",
      "\n",
      "Test veri kümesi\n",
      "              precision    recall  f1-score   support\n",
      "\n",
      "           0       0.62      0.94      0.75        47\n",
      "           1       0.87      0.43      0.57        47\n",
      "\n",
      "    accuracy                           0.68        94\n",
      "   macro avg       0.74      0.68      0.66        94\n",
      "weighted avg       0.74      0.68      0.66        94\n",
      "\n"
     ]
    },
    {
     "name": "stderr",
     "output_type": "stream",
     "text": [
      "/Users/aytackolukisa/opt/anaconda3/lib/python3.8/site-packages/sklearn/linear_model/_logistic.py:763: ConvergenceWarning: lbfgs failed to converge (status=1):\n",
      "STOP: TOTAL NO. of ITERATIONS REACHED LIMIT.\n",
      "\n",
      "Increase the number of iterations (max_iter) or scale the data as shown in:\n",
      "    https://scikit-learn.org/stable/modules/preprocessing.html\n",
      "Please also refer to the documentation for alternative solver options:\n",
      "    https://scikit-learn.org/stable/modules/linear_model.html#logistic-regression\n",
      "  n_iter_i = _check_optimize_result(\n"
     ]
    }
   ],
   "source": [
    "from imblearn.over_sampling import SMOTE\n",
    "\n",
    "y = extra.Class2\n",
    "X = extra.drop('Class2', axis=1)\n",
    "\n",
    "sm = SMOTE(random_state=27)\n",
    "X_smote, y_smote = sm.fit_resample(X, y)\n",
    "model_olustur(X_smote, y_smote)"
   ]
  },
  {
   "cell_type": "markdown",
   "metadata": {},
   "source": [
    "# KNN REGRETION"
   ]
  },
  {
   "cell_type": "code",
   "execution_count": 63,
   "metadata": {},
   "outputs": [],
   "source": [
    "from sklearn.neighbors import KNeighborsClassifier\n",
    "komsular = KNeighborsClassifier(n_neighbors=5, weights='distance')\n",
    "\n",
    "from sklearn.preprocessing import StandardScaler\n",
    "ss = StandardScaler()\n",
    "X_olcekli = ss.fit_transform(X_smote)"
   ]
  },
  {
   "cell_type": "code",
   "execution_count": 64,
   "metadata": {},
   "outputs": [
    {
     "data": {
      "text/plain": [
       "0.6382978723404256"
      ]
     },
     "execution_count": 64,
     "metadata": {},
     "output_type": "execute_result"
    }
   ],
   "source": [
    "X_train_olcekli, X_test_olcekli, y_train, y_test = train_test_split(X_olcekli, y_smote, test_size=0.2, random_state = 40)\n",
    "\n",
    "knn = KNeighborsClassifier(n_neighbors = 1)\n",
    "knn.fit(X_train_olcekli,y_train)\n",
    "knn.score(X_test_olcekli, y_test)"
   ]
  },
  {
   "cell_type": "code",
   "execution_count": 65,
   "metadata": {},
   "outputs": [
    {
     "data": {
      "image/png": "[encoded data removed]",
      "text/plain": [
       "<Figure size 700x300 with 1 Axes>"
      ]
     },
     "metadata": {
      "needs_background": "light"
     },
     "output_type": "display_data"
    }
   ],
   "source": [
    "komsu_sayisi = np.arange(1, 9)\n",
    "egitim_kumesi_skoru = np.empty(len(komsu_sayisi))\n",
    "test_kumesi_skoru = np.empty(len(komsu_sayisi))\n",
    "\n",
    "for i, k in enumerate(komsu_sayisi):\n",
    "    knn = KNeighborsClassifier(n_neighbors=k)\n",
    "    knn.fit(X_train_olcekli, y_train)\n",
    "    egitim_kumesi_skoru[i] = knn.score(X_train_olcekli, y_train)\n",
    "\n",
    "    #Compute accuracy on the testing set\n",
    "    test_kumesi_skoru[i] = knn.score(X_test_olcekli, y_test)\n",
    "\n",
    "    \n",
    "baslik_font = {'family': 'arial', 'color': 'darkred','weight': 'bold','size': 13 }\n",
    "eksen_font  = {'family': 'arial', 'color': 'darkblue','weight': 'bold','size': 10 }\n",
    "plt.figure(figsize=(7,3), dpi = 100)\n",
    "plt.plot(komsu_sayisi, test_kumesi_skoru, label = 'Test kümesi')\n",
    "plt.plot(komsu_sayisi, egitim_kumesi_skoru, label = 'Eğitim kümesi')\n",
    "plt.legend()\n",
    "plt.title('Komşu Sayılarına Göre Model Skoru (k-NN)', fontdict= baslik_font)\n",
    "plt.xlabel('Komşu Sayısı', fontdict= eksen_font)\n",
    "plt.ylabel('Doğruluk', fontdict= eksen_font)\n",
    "plt.show()"
   ]
  },
  {
   "cell_type": "code",
   "execution_count": null,
   "metadata": {},
   "outputs": [],
   "source": []
  },
  {
   "cell_type": "code",
   "execution_count": null,
   "metadata": {},
   "outputs": [],
   "source": []
  }
 ],
 "metadata": {
  "kernelspec": {
   "display_name": "Python 3",
   "language": "python",
   "name": "python3"
  },
  "language_info": {
   "codemirror_mode": {
    "name": "ipython",
    "version": 3
   },
   "file_extension": ".py",
   "mimetype": "text/x-python",
   "name": "python",
   "nbconvert_exporter": "python",
   "pygments_lexer": "ipython3",
   "version": "3.8.5"
  }
 },
 "nbformat": 4,
 "nbformat_minor": 4
}
